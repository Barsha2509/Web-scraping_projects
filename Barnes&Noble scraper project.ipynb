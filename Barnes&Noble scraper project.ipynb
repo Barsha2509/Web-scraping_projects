{
 "cells": [
  {
   "cell_type": "markdown",
   "metadata": {},
   "source": [
    "##Barnes&Nobles web scraper\n",
    "\n",
    "The goal of this project is to collect data about books from the Barnes&Nobles website. Web scraping libraries like BeautifulSoup and selenium were utilized for this purpose. The collected data was then converted into a dataframe which was further transformed into a csv file."
   ]
  },
  {
   "cell_type": "code",
   "execution_count": null,
   "metadata": {},
   "outputs": [],
   "source": [
    "#importing required libraries\n",
    "#!pip install selenium\n",
    "from selenium import webdriver\n",
    "import time\n",
    "from bs4 import BeautifulSoup\n",
    "import datetime\n",
    "import pandas as pd\n",
    "import smtplib #library for sending email to yourself\n",
    "\n",
    "driver=webdriver.Safari()\n",
    "driver.get('https://www.barnesandnoble.com/w/all-the-light-we-cannot-see-anthony-doerr/1115884714?ean=9781501173219')\n",
    "time.sleep(5)\n",
    "html=driver.page_source\n",
    "soup=BeautifulSoup(html,'html.parser')"
   ]
  },
  {
   "cell_type": "code",
   "execution_count": 7,
   "metadata": {},
   "outputs": [],
   "source": [
    "#To obtain the title of the book from the webpage\n",
    "title=soup.find(class_=\"pdp-header-title text-lg-left text-sm-center mr-md-l ml-md-l mr-sm-l ml-sm-l\").get_text()"
   ]
  },
  {
   "cell_type": "code",
   "execution_count": 8,
   "metadata": {},
   "outputs": [
    {
     "name": "stdout",
     "output_type": "stream",
     "text": [
      "All the Light We Cannot See (Pulitzer Prize Winner)\n"
     ]
    }
   ],
   "source": [
    "print(title)"
   ]
  },
  {
   "cell_type": "code",
   "execution_count": 10,
   "metadata": {},
   "outputs": [
    {
     "name": "stdout",
     "output_type": "stream",
     "text": [
      "Anthony Doerr\n"
     ]
    }
   ],
   "source": [
    "#author=soup.select_one('a[href^=\"/b/contributor/anthony-doerr/_/N-2k47\"]').get_text()\n",
    "#print(author)"
   ]
  },
  {
   "cell_type": "code",
   "execution_count": 28,
   "metadata": {},
   "outputs": [
    {
     "name": "stdout",
     "output_type": "stream",
     "text": [
      "Anthony Doerr\n"
     ]
    }
   ],
   "source": [
    "#To extract the author's name  from the webpage\n",
    "author=soup.find('a', href=\"/b/contributor/anthony-doerr/_/N-2k47\").get_text()\n",
    "print(author)"
   ]
  },
  {
   "cell_type": "code",
   "execution_count": 11,
   "metadata": {},
   "outputs": [
    {
     "name": "stdout",
     "output_type": "stream",
     "text": [
      "4.4\n"
     ]
    }
   ],
   "source": [
    "#To extract the book ratings(out of 5) from the webpage\n",
    "rating=soup.find(itemprop=\"ratingValue\", class_=\"bv_avgRating_component_container notranslate\").get_text()\n",
    "print(rating)"
   ]
  },
  {
   "cell_type": "code",
   "execution_count": 12,
   "metadata": {},
   "outputs": [
    {
     "name": "stdout",
     "output_type": "stream",
     "text": [
      "Paperback-$14.99\n"
     ]
    }
   ],
   "source": [
    "#To extract the book's price from the webpage\n",
    "price=soup.find(class_=\"selectBox-label\", id=\"formatSelect-button-label\" ).get_text()\n",
    "print(price)"
   ]
  },
  {
   "cell_type": "code",
   "execution_count": 13,
   "metadata": {},
   "outputs": [
    {
     "data": {
      "text/plain": [
       "<td>9781501173219</td>"
      ]
     },
     "execution_count": 13,
     "metadata": {},
     "output_type": "execute_result"
    }
   ],
   "source": [
    "#Since the rest of the details about book is inside a table\n",
    "#So that table was extracted with the below codes, to obtain those information\n",
    "table=soup.find('table', class_=\"plain centered\")\n",
    "table_rows=table.find_all('td')\n",
    "table_rows[0]"
   ]
  },
  {
   "cell_type": "code",
   "execution_count": 14,
   "metadata": {},
   "outputs": [
    {
     "name": "stdout",
     "output_type": "stream",
     "text": [
      "9781501173219 \n",
      "Scribner\n",
      " 04/04/2017 544 65\n"
     ]
    }
   ],
   "source": [
    "\n",
    "for i,row in enumerate(table):\n",
    "    ISBN=table.find_all('td')[0].get_text()\n",
    "    publisher=table.find_all('td')[1].get_text()\n",
    "    publication_date=table.find_all('td')[2].get_text()\n",
    "    Pages=table.find_all('td')[4].get_text()\n",
    "    sales_rank=table.find_all('td')[5].get_text()\n",
    "print(ISBN, \n",
    "      publisher,\n",
    "      publication_date,\n",
    "      Pages,\n",
    "      sales_rank)"
   ]
  },
  {
   "cell_type": "code",
   "execution_count": 37,
   "metadata": {},
   "outputs": [],
   "source": [
    "#Function for doing the above steps\n",
    "def book():\n",
    "    from selenium import webdriver\n",
    "    import time\n",
    "    from bs4 import BeautifulSoup\n",
    "    import datetime\n",
    "    import pandas as pd\n",
    "    import smtplib #library for sending email to yourself\n",
    "\n",
    "    driver=webdriver.Safari()\n",
    "    driver.get('https://www.barnesandnoble.com/w/all-the-light-we-cannot-see-anthony-doerr/1115884714?ean=9781501173219')\n",
    "    time.sleep(5)\n",
    "    html=driver.page_source\n",
    "    soup=BeautifulSoup(html,'html.parser')\n",
    "    title=soup.find(class_=\"pdp-header-title text-lg-left text-sm-center mr-md-l ml-md-l mr-sm-l ml-sm-l\").get_text()\n",
    "    author=soup.find('a', href=\"/b/contributor/anthony-doerr/_/N-2k47\").get_text()\n",
    "    rating=soup.find(itemprop=\"ratingValue\", class_=\"bv_avgRating_component_container notranslate\").get_text()\n",
    "    price=soup.find(class_=\"selectBox-label\", id=\"formatSelect-button-label\" ).get_text()\n",
    "    table=soup.find('table', class_=\"plain centered\")\n",
    "    table_rows=table.find_all('td')\n",
    "    for i,row in enumerate(table):\n",
    "        ISBN=table.find_all('td')[0].get_text()\n",
    "        publisher=table.find_all('td')[1].get_text()\n",
    "        publication_date=table.find_all('td')[2].get_text()\n",
    "        Pages=table.find_all('td')[4].get_text()\n",
    "        sales_rank=table.find_all('td')[5].get_text()\n",
    "\n",
    "\n",
    "    "
   ]
  },
  {
   "cell_type": "code",
   "execution_count": 18,
   "metadata": {},
   "outputs": [],
   "source": [
    "#Dataframe created for storing the collected data\n",
    "import pandas as pd\n",
    "df=pd.DataFrame({'Title':[title],\n",
    "               'Author':[author],\n",
    "               'Rating':[rating],\n",
    "                'ISBN':[ISBN],\n",
    "                'Publisher':[publisher],\n",
    "                'Publication_date':[publication_date],\n",
    "                'Total_pages':[Pages],\n",
    "                'SalesRank': [sales_rank],\n",
    "                'Price':price})"
   ]
  },
  {
   "cell_type": "code",
   "execution_count": 33,
   "metadata": {},
   "outputs": [
    {
     "data": {
      "text/html": [
       "<div>\n",
       "<style scoped>\n",
       "    .dataframe tbody tr th:only-of-type {\n",
       "        vertical-align: middle;\n",
       "    }\n",
       "\n",
       "    .dataframe tbody tr th {\n",
       "        vertical-align: top;\n",
       "    }\n",
       "\n",
       "    .dataframe thead th {\n",
       "        text-align: right;\n",
       "    }\n",
       "</style>\n",
       "<table border=\"1\" class=\"dataframe\">\n",
       "  <thead>\n",
       "    <tr style=\"text-align: right;\">\n",
       "      <th></th>\n",
       "      <th>Title</th>\n",
       "      <th>Author</th>\n",
       "      <th>Rating</th>\n",
       "      <th>ISBN</th>\n",
       "      <th>Publisher</th>\n",
       "      <th>Publication_date</th>\n",
       "      <th>Total_pages</th>\n",
       "      <th>SalesRank</th>\n",
       "      <th>Price</th>\n",
       "    </tr>\n",
       "  </thead>\n",
       "  <tbody>\n",
       "    <tr>\n",
       "      <th>0</th>\n",
       "      <td>All the Light We Cannot See (Pulitzer Prize Wi...</td>\n",
       "      <td>Anthony Doerr</td>\n",
       "      <td>4.4</td>\n",
       "      <td>9781501173219</td>\n",
       "      <td>\\nScribner\\n</td>\n",
       "      <td>04/04/2017</td>\n",
       "      <td>544</td>\n",
       "      <td>65</td>\n",
       "      <td>Paperback-$14.99</td>\n",
       "    </tr>\n",
       "  </tbody>\n",
       "</table>\n",
       "</div>"
      ],
      "text/plain": [
       "                                               Title         Author Rating  \\\n",
       "0  All the Light We Cannot See (Pulitzer Prize Wi...  Anthony Doerr    4.4   \n",
       "\n",
       "            ISBN     Publisher Publication_date Total_pages SalesRank  \\\n",
       "0  9781501173219  \\nScribner\\n       04/04/2017         544        65   \n",
       "\n",
       "              Price  \n",
       "0  Paperback-$14.99  "
      ]
     },
     "execution_count": 33,
     "metadata": {},
     "output_type": "execute_result"
    }
   ],
   "source": [
    "df.head()"
   ]
  },
  {
   "cell_type": "code",
   "execution_count": 34,
   "metadata": {},
   "outputs": [],
   "source": [
    "#Above dataframe converted into a csv file\n",
    "df.to_csv('/Users/abhisheksinha/Desktop/Barnes&Nobles.csv')"
   ]
  },
  {
   "cell_type": "code",
   "execution_count": 35,
   "metadata": {},
   "outputs": [
    {
     "data": {
      "text/html": [
       "<div>\n",
       "<style scoped>\n",
       "    .dataframe tbody tr th:only-of-type {\n",
       "        vertical-align: middle;\n",
       "    }\n",
       "\n",
       "    .dataframe tbody tr th {\n",
       "        vertical-align: top;\n",
       "    }\n",
       "\n",
       "    .dataframe thead th {\n",
       "        text-align: right;\n",
       "    }\n",
       "</style>\n",
       "<table border=\"1\" class=\"dataframe\">\n",
       "  <thead>\n",
       "    <tr style=\"text-align: right;\">\n",
       "      <th></th>\n",
       "      <th>Unnamed: 0</th>\n",
       "      <th>Title</th>\n",
       "      <th>Author</th>\n",
       "      <th>Rating</th>\n",
       "      <th>ISBN</th>\n",
       "      <th>Publisher</th>\n",
       "      <th>Publication_date</th>\n",
       "      <th>Total_pages</th>\n",
       "      <th>SalesRank</th>\n",
       "      <th>Price</th>\n",
       "    </tr>\n",
       "  </thead>\n",
       "  <tbody>\n",
       "    <tr>\n",
       "      <th>0</th>\n",
       "      <td>0</td>\n",
       "      <td>All the Light We Cannot See (Pulitzer Prize Wi...</td>\n",
       "      <td>Anthony Doerr</td>\n",
       "      <td>4.4</td>\n",
       "      <td>9781501173219</td>\n",
       "      <td>\\nScribner\\n</td>\n",
       "      <td>04/04/2017</td>\n",
       "      <td>544</td>\n",
       "      <td>65</td>\n",
       "      <td>Paperback-$14.99</td>\n",
       "    </tr>\n",
       "  </tbody>\n",
       "</table>\n",
       "</div>"
      ],
      "text/plain": [
       "   Unnamed: 0                                              Title  \\\n",
       "0           0  All the Light We Cannot See (Pulitzer Prize Wi...   \n",
       "\n",
       "          Author  Rating           ISBN     Publisher Publication_date  \\\n",
       "0  Anthony Doerr     4.4  9781501173219  \\nScribner\\n       04/04/2017   \n",
       "\n",
       "   Total_pages  SalesRank             Price  \n",
       "0          544         65  Paperback-$14.99  "
      ]
     },
     "execution_count": 35,
     "metadata": {},
     "output_type": "execute_result"
    }
   ],
   "source": [
    "#Reading the csv file created in previous step\n",
    "data=pd.read_csv('/Users/abhisheksinha/Desktop/Barnes&Nobles.csv')\n",
    "data.head()"
   ]
  },
  {
   "cell_type": "code",
   "execution_count": 22,
   "metadata": {},
   "outputs": [],
   "source": [
    "#Dropping the unnamed column\n",
    "data.drop(['Unnamed: 0'], axis=1, inplace=True)"
   ]
  },
  {
   "cell_type": "code",
   "execution_count": 23,
   "metadata": {},
   "outputs": [
    {
     "name": "stdout",
     "output_type": "stream",
     "text": [
      "2021-10-01\n"
     ]
    }
   ],
   "source": [
    "#date on which this data was collected\n",
    "import datetime\n",
    "today=datetime.date.today()\n",
    "print(today)"
   ]
  },
  {
   "cell_type": "code",
   "execution_count": 114,
   "metadata": {},
   "outputs": [],
   "source": [
    "# To send yourself an email (just for fun) \n",
    "\n",
    "\n",
    "def send_mail():\n",
    "    server = smtplib.SMTP_SSL(\"smtp.gmail.com\", 465)\n",
    "    server.ehlo()\n",
    "    #server.starttls()\n",
    "    server.ehlo()\n",
    "    server.login('tbar2509@gmail.com','Abhishek2509')\n",
    "    \n",
    "    subject = \"All the Light We Cannot See, book is available in Barnes&Nobles \"\n",
    "    body = \"Barsha, This is the moment we have been waiting for. Now is your chance to buy this book . Don't mess it up! Link here: https://www.barnesandnoble.com/w/all-the-light-we-cannot-see-anthony-doerr/1115884714?ean=9781501173219\"\n",
    "   \n",
    "    \n",
    "    msg = f\"Subject: {subject}\\n\\n{body}\"\n",
    "    \n",
    "    server.sendmail(\n",
    "        'tbar2509@gmail.com', 'baarish25@gmail.com',msg=msg\n",
    "     \n",
    "         )"
   ]
  },
  {
   "cell_type": "code",
   "execution_count": 115,
   "metadata": {},
   "outputs": [],
   "source": [
    " send_mail()"
   ]
  },
  {
   "cell_type": "code",
   "execution_count": null,
   "metadata": {},
   "outputs": [],
   "source": []
  }
 ],
 "metadata": {
  "kernelspec": {
   "display_name": "Python 3 (ipykernel)",
   "language": "python",
   "name": "python3"
  },
  "language_info": {
   "codemirror_mode": {
    "name": "ipython",
    "version": 3
   },
   "file_extension": ".py",
   "mimetype": "text/x-python",
   "name": "python",
   "nbconvert_exporter": "python",
   "pygments_lexer": "ipython3",
   "version": "3.9.7"
  }
 },
 "nbformat": 4,
 "nbformat_minor": 4
}
