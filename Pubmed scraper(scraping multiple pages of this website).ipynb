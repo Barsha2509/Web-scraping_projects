{
 "cells": [
  {
   "cell_type": "markdown",
   "metadata": {},
   "source": [
    "In this project, data about the various published research articles about COVID-19 virus were collected from \n",
    "the Pubmed website. The Python Jupyter was used to complete this project. Selenium Webdriver was used to access \n",
    "the webpage. As the webpage was written in Javascript, therefore Selenium was chosen as the appropriate library \n",
    "to scrape the data from this website. After gainig the access to the webpage, Beautiful Soup library was used to \n",
    "pull the required data from there. All the collected data was stored in Python's lists. These lists were then \n",
    "converted into a dataframe which was then saved as a csv file."
   ]
  },
  {
   "cell_type": "code",
   "execution_count": 2,
   "metadata": {},
   "outputs": [],
   "source": [
    "#importing required libraries\n",
    "import pandas as pd\n",
    "from selenium import webdriver\n",
    "from bs4 import BeautifulSoup\n",
    "import time\n",
    "\n"
   ]
  },
  {
   "cell_type": "code",
   "execution_count": 18,
   "metadata": {},
   "outputs": [],
   "source": [
    "driver=webdriver.Safari()\n",
    "driver.get('https://pubmed.ncbi.nlm.nih.gov/?term=covid')\n",
    "time.sleep(5)\n",
    "html=driver.page_source\n",
    "soup=BeautifulSoup(html,'html.parser')"
   ]
  },
  {
   "cell_type": "code",
   "execution_count": 35,
   "metadata": {},
   "outputs": [],
   "source": [
    "#To extract the titles of each article\n",
    "titles=soup.find_all( class_=\"docsum-title\")\n",
    "title=[]\n",
    "for i in titles:\n",
    "    title.append(i.get_text().strip())\n"
   ]
  },
  {
   "cell_type": "code",
   "execution_count": 36,
   "metadata": {},
   "outputs": [
    {
     "data": {
      "text/plain": [
       "['COVID-19 and cardiac injury: clinical manifestations, biomarkers, mechanisms, diagnosis, treatment, and follow up.',\n",
       " 'Approaches towards fighting the COVID-19 pandemic (Review).',\n",
       " 'COVID-19: A Multidisciplinary Review.',\n",
       " 'COVID-19: Virology, biology and novel laboratory diagnosis.',\n",
       " 'Immune determinants of COVID-19 disease presentation and severity.',\n",
       " 'COVID-19 and the ABO blood group connection.',\n",
       " 'The novel coronavirus Disease-2019 (COVID-19): Mechanism of action, detection and recent therapeutic strategies.',\n",
       " 'Supplementation with vitamin D in the COVID-19 pandemic?',\n",
       " 'COVID-19: Therapeutics and interventions currently under consideration.',\n",
       " 'Cholesterol, lipoproteins, and COVID-19: Basic concepts and clinical applications.']"
      ]
     },
     "execution_count": 36,
     "metadata": {},
     "output_type": "execute_result"
    }
   ],
   "source": [
    "title"
   ]
  },
  {
   "cell_type": "code",
   "execution_count": 38,
   "metadata": {},
   "outputs": [
    {
     "data": {
      "text/plain": [
       "['Tajbakhsh A, Gheibi Hayat SM, Taghizadeh H, Akbari A, Inabadi M, Savardashtaki A, Johnston TP, Sahebkar A.',\n",
       " 'Tsai SC, Lu CC, Bau DT, Chiu YJ, Yen YT, Hsu YM, Fu CW, Kuo SC, Lo YS, Chiu HY, Juan YN, Tsai FJ, Yang JS.',\n",
       " 'Chams N, Chams S, Badran R, Shams A, Araji A, Raad M, Mukhopadhyay S, Stroberg E, Duval EJ, Barton LM, Hajj Hussein I.',\n",
       " 'Mohamadian M, Chiti H, Shoghli A, Biglari S, Parsamanesh N, Esmaeilzadeh A.',\n",
       " 'Brodin P.',\n",
       " 'Zaidi FZ, Zaidi ARZ, Abdullah SM, Zaidi SZA.',\n",
       " 'Seyed Hosseini E, Riahi Kashani N, Nikzad H, Azadbakht J, Hassani Bafrani H, Haddad Kashani H.',\n",
       " 'Hadizadeh F.',\n",
       " 'McFee RB.',\n",
       " 'Kočar E, Režen T, Rozman D.']"
      ]
     },
     "execution_count": 38,
     "metadata": {},
     "output_type": "execute_result"
    }
   ],
   "source": [
    "#To extract the authors names for each article\n",
    "authors=soup.find_all(class_=\"docsum-authors full-authors\")\n",
    "author=[]\n",
    "for i in authors:\n",
    "    author.append(i.get_text())\n",
    "author"
   ]
  },
  {
   "cell_type": "code",
   "execution_count": 106,
   "metadata": {},
   "outputs": [
    {
     "data": {
      "text/plain": [
       "[' 2021',\n",
       " ' 2021',\n",
       " ' 2021',\n",
       " ' 2021',\n",
       " ' 2021',\n",
       " ' 2021',\n",
       " ' 2021',\n",
       " ' 2021',\n",
       " ' 2021',\n",
       " ' 2021']"
      ]
     },
     "execution_count": 106,
     "metadata": {},
     "output_type": "execute_result"
    }
   ],
   "source": [
    "##To extract the journal names and year that these articles were published \n",
    "journals=soup.find_all( class_=\"docsum-journal-citation short-journal-citation\")\n",
    "journal=[]\n",
    "Year=[]\n",
    "j=[]\n",
    "for i in journals:\n",
    "    j.append(i.get_text().split('.', 1))\n",
    "    journal.append(j[0][0])\n",
    "    Year.append(j[0][1].replace(\".\", \"\"))\n",
    "Year"
   ]
  },
  {
   "cell_type": "code",
   "execution_count": 110,
   "metadata": {},
   "outputs": [
    {
     "data": {
      "text/plain": [
       "['32921216',\n",
       " '33236131',\n",
       " '32850602',\n",
       " '33305456',\n",
       " '33442016',\n",
       " '32513613',\n",
       " '33010669',\n",
       " '32679589',\n",
       " '32868092',\n",
       " '33157278']"
      ]
     },
     "execution_count": 110,
     "metadata": {},
     "output_type": "execute_result"
    }
   ],
   "source": [
    "#To extract pubmed id for each aticle\n",
    "ids=soup.find_all(class_=\"docsum-pmid\")\n",
    "id=[]\n",
    "for i in ids:\n",
    "    id.append(i.get_text())\n",
    "id"
   ]
  },
  {
   "cell_type": "code",
   "execution_count": 30,
   "metadata": {},
   "outputs": [
    {
     "name": "stderr",
     "output_type": "stream",
     "text": [
      "\n",
      "\n",
      "====== WebDriver manager ======\n",
      "Current google-chrome version is 94.0.4606\n",
      "Get LATEST driver version for 94.0.4606\n",
      "Driver [/Users/abhisheksinha/.wdm/drivers/chromedriver/mac64/94.0.4606.61/chromedriver] found in cache\n",
      "\n",
      "\n",
      "====== WebDriver manager ======\n",
      "Current google-chrome version is 94.0.4606\n",
      "Get LATEST driver version for 94.0.4606\n",
      "Driver [/Users/abhisheksinha/.wdm/drivers/chromedriver/mac64/94.0.4606.61/chromedriver] found in cache\n",
      "\n",
      "\n",
      "====== WebDriver manager ======\n",
      "Current google-chrome version is 94.0.4606\n",
      "Get LATEST driver version for 94.0.4606\n",
      "Driver [/Users/abhisheksinha/.wdm/drivers/chromedriver/mac64/94.0.4606.61/chromedriver] found in cache\n",
      "\n",
      "\n",
      "====== WebDriver manager ======\n",
      "Current google-chrome version is 94.0.4606\n",
      "Get LATEST driver version for 94.0.4606\n",
      "Driver [/Users/abhisheksinha/.wdm/drivers/chromedriver/mac64/94.0.4606.61/chromedriver] found in cache\n",
      "\n",
      "\n",
      "====== WebDriver manager ======\n",
      "Current google-chrome version is 94.0.4606\n",
      "Get LATEST driver version for 94.0.4606\n",
      "Driver [/Users/abhisheksinha/.wdm/drivers/chromedriver/mac64/94.0.4606.61/chromedriver] found in cache\n",
      "\n",
      "\n",
      "====== WebDriver manager ======\n",
      "Current google-chrome version is 94.0.4606\n",
      "Get LATEST driver version for 94.0.4606\n",
      "Driver [/Users/abhisheksinha/.wdm/drivers/chromedriver/mac64/94.0.4606.61/chromedriver] found in cache\n",
      "\n",
      "\n",
      "====== WebDriver manager ======\n",
      "Current google-chrome version is 94.0.4606\n",
      "Get LATEST driver version for 94.0.4606\n",
      "Driver [/Users/abhisheksinha/.wdm/drivers/chromedriver/mac64/94.0.4606.61/chromedriver] found in cache\n",
      "\n",
      "\n",
      "====== WebDriver manager ======\n",
      "Current google-chrome version is 94.0.4606\n",
      "Get LATEST driver version for 94.0.4606\n",
      "Driver [/Users/abhisheksinha/.wdm/drivers/chromedriver/mac64/94.0.4606.61/chromedriver] found in cache\n",
      "\n",
      "\n",
      "====== WebDriver manager ======\n",
      "Current google-chrome version is 94.0.4606\n",
      "Get LATEST driver version for 94.0.4606\n",
      "Driver [/Users/abhisheksinha/.wdm/drivers/chromedriver/mac64/94.0.4606.61/chromedriver] found in cache\n"
     ]
    }
   ],
   "source": [
    "#Complete scraper \n",
    "#!pip install webdriver_manager\n",
    "from webdriver_manager.chrome import ChromeDriverManager\n",
    "title=[]\n",
    "author=[]\n",
    "j=[]\n",
    "journal=[]\n",
    "Year=[]\n",
    "id=[]\n",
    "#driver=webdriver.Safari()\n",
    "for page in range(1,10):\n",
    "    driver=webdriver.Chrome(ChromeDriverManager().install())\n",
    "    driver.get('https://pubmed.ncbi.nlm.nih.gov/?term=covid'+\"&\"+\"page=\" + str(page))\n",
    "    time.sleep(5)\n",
    "    html=driver.page_source\n",
    "    soup=BeautifulSoup(html,'html.parser')\n",
    "    titles=soup.find_all( class_=\"docsum-title\")\n",
    "    for i in titles:\n",
    "        title.append(i.get_text().strip())\n",
    "        #title.append(soup.find_all( class_=\"docsum-title\"))\n",
    "    authors=soup.find_all(class_=\"docsum-authors full-authors\")\n",
    "    for i in authors:\n",
    "        author.append(i.get_text())\n",
    "    journals=soup.find_all( class_=\"docsum-journal-citation short-journal-citation\")\n",
    "    for i in journals:\n",
    "        j.append(i.get_text().split('.', 1))\n",
    "        journal.append(j[0][0])\n",
    "        Year.append(j[0][1].replace(\".\", \"\"))\n",
    "    ids=soup.find_all(class_=\"docsum-pmid\")\n",
    "    for i in ids:\n",
    "        id.append(i.get_text())\n",
    "\n",
    "    driver.close()\n",
    "       "
   ]
  },
  {
   "cell_type": "code",
   "execution_count": null,
   "metadata": {},
   "outputs": [],
   "source": [
    "#Creating dataframe to store extracted info from the site\n",
    "df=pd.DataFrame({'Title':title,\n",
    "                 'Author':author,\n",
    "                 'Journal':journal,\n",
    "                 \"Year\":Year,\n",
    "                 \"ID\":id})"
   ]
  },
  {
   "cell_type": "code",
   "execution_count": 36,
   "metadata": {},
   "outputs": [
    {
     "data": {
      "text/html": [
       "<div>\n",
       "<style scoped>\n",
       "    .dataframe tbody tr th:only-of-type {\n",
       "        vertical-align: middle;\n",
       "    }\n",
       "\n",
       "    .dataframe tbody tr th {\n",
       "        vertical-align: top;\n",
       "    }\n",
       "\n",
       "    .dataframe thead th {\n",
       "        text-align: right;\n",
       "    }\n",
       "</style>\n",
       "<table border=\"1\" class=\"dataframe\">\n",
       "  <thead>\n",
       "    <tr style=\"text-align: right;\">\n",
       "      <th></th>\n",
       "      <th>Title</th>\n",
       "      <th>Author</th>\n",
       "      <th>Journal</th>\n",
       "      <th>Year</th>\n",
       "      <th>ID</th>\n",
       "    </tr>\n",
       "  </thead>\n",
       "  <tbody>\n",
       "    <tr>\n",
       "      <th>0</th>\n",
       "      <td>COVID-19 and cardiac injury: clinical manifest...</td>\n",
       "      <td>Tajbakhsh A, Gheibi Hayat SM, Taghizadeh H, Ak...</td>\n",
       "      <td>Expert Rev Anti Infect Ther</td>\n",
       "      <td>2021</td>\n",
       "      <td>32921216</td>\n",
       "    </tr>\n",
       "    <tr>\n",
       "      <th>1</th>\n",
       "      <td>Approaches towards fighting the COVID-19 pande...</td>\n",
       "      <td>Tsai SC, Lu CC, Bau DT, Chiu YJ, Yen YT, Hsu Y...</td>\n",
       "      <td>Expert Rev Anti Infect Ther</td>\n",
       "      <td>2021</td>\n",
       "      <td>33236131</td>\n",
       "    </tr>\n",
       "    <tr>\n",
       "      <th>2</th>\n",
       "      <td>COVID-19: A Multidisciplinary Review.</td>\n",
       "      <td>Chams N, Chams S, Badran R, Shams A, Araji A, ...</td>\n",
       "      <td>Expert Rev Anti Infect Ther</td>\n",
       "      <td>2021</td>\n",
       "      <td>32850602</td>\n",
       "    </tr>\n",
       "    <tr>\n",
       "      <th>3</th>\n",
       "      <td>COVID-19: Virology, biology and novel laborato...</td>\n",
       "      <td>Mohamadian M, Chiti H, Shoghli A, Biglari S, P...</td>\n",
       "      <td>Expert Rev Anti Infect Ther</td>\n",
       "      <td>2021</td>\n",
       "      <td>33305456</td>\n",
       "    </tr>\n",
       "    <tr>\n",
       "      <th>4</th>\n",
       "      <td>Immune determinants of COVID-19 disease presen...</td>\n",
       "      <td>Brodin P.</td>\n",
       "      <td>Expert Rev Anti Infect Ther</td>\n",
       "      <td>2021</td>\n",
       "      <td>33442016</td>\n",
       "    </tr>\n",
       "  </tbody>\n",
       "</table>\n",
       "</div>"
      ],
      "text/plain": [
       "                                               Title  \\\n",
       "0  COVID-19 and cardiac injury: clinical manifest...   \n",
       "1  Approaches towards fighting the COVID-19 pande...   \n",
       "2              COVID-19: A Multidisciplinary Review.   \n",
       "3  COVID-19: Virology, biology and novel laborato...   \n",
       "4  Immune determinants of COVID-19 disease presen...   \n",
       "\n",
       "                                              Author  \\\n",
       "0  Tajbakhsh A, Gheibi Hayat SM, Taghizadeh H, Ak...   \n",
       "1  Tsai SC, Lu CC, Bau DT, Chiu YJ, Yen YT, Hsu Y...   \n",
       "2  Chams N, Chams S, Badran R, Shams A, Araji A, ...   \n",
       "3  Mohamadian M, Chiti H, Shoghli A, Biglari S, P...   \n",
       "4                                          Brodin P.   \n",
       "\n",
       "                       Journal   Year        ID  \n",
       "0  Expert Rev Anti Infect Ther   2021  32921216  \n",
       "1  Expert Rev Anti Infect Ther   2021  33236131  \n",
       "2  Expert Rev Anti Infect Ther   2021  32850602  \n",
       "3  Expert Rev Anti Infect Ther   2021  33305456  \n",
       "4  Expert Rev Anti Infect Ther   2021  33442016  "
      ]
     },
     "execution_count": 36,
     "metadata": {},
     "output_type": "execute_result"
    }
   ],
   "source": [
    "df.head()"
   ]
  },
  {
   "cell_type": "code",
   "execution_count": 37,
   "metadata": {},
   "outputs": [
    {
     "data": {
      "text/html": [
       "<div>\n",
       "<style scoped>\n",
       "    .dataframe tbody tr th:only-of-type {\n",
       "        vertical-align: middle;\n",
       "    }\n",
       "\n",
       "    .dataframe tbody tr th {\n",
       "        vertical-align: top;\n",
       "    }\n",
       "\n",
       "    .dataframe thead th {\n",
       "        text-align: right;\n",
       "    }\n",
       "</style>\n",
       "<table border=\"1\" class=\"dataframe\">\n",
       "  <thead>\n",
       "    <tr style=\"text-align: right;\">\n",
       "      <th></th>\n",
       "      <th>Title</th>\n",
       "      <th>Author</th>\n",
       "      <th>Journal</th>\n",
       "      <th>Year</th>\n",
       "      <th>ID</th>\n",
       "    </tr>\n",
       "  </thead>\n",
       "  <tbody>\n",
       "    <tr>\n",
       "      <th>85</th>\n",
       "      <td>The timeliness of ozone in the COVID era.</td>\n",
       "      <td>Marconcini S, Giammarinaro E, Covani U.</td>\n",
       "      <td>Expert Rev Anti Infect Ther</td>\n",
       "      <td>2021</td>\n",
       "      <td>32432725</td>\n",
       "    </tr>\n",
       "    <tr>\n",
       "      <th>86</th>\n",
       "      <td>Why COVID outbreaks look set to worsen this wi...</td>\n",
       "      <td>Mallapaty S.</td>\n",
       "      <td>Expert Rev Anti Infect Ther</td>\n",
       "      <td>2021</td>\n",
       "      <td>33097844</td>\n",
       "    </tr>\n",
       "    <tr>\n",
       "      <th>87</th>\n",
       "      <td>SARS-CoV-2 vaccines in advanced clinical trial...</td>\n",
       "      <td>Chakraborty S, Mallajosyula V, Tato CM, Tan GS...</td>\n",
       "      <td>Expert Rev Anti Infect Ther</td>\n",
       "      <td>2021</td>\n",
       "      <td>33482248</td>\n",
       "    </tr>\n",
       "    <tr>\n",
       "      <th>88</th>\n",
       "      <td>Early transmissibility assessment of the N501Y...</td>\n",
       "      <td>Leung K, Shum MH, Leung GM, Lam TT, Wu JT.</td>\n",
       "      <td>Expert Rev Anti Infect Ther</td>\n",
       "      <td>2021</td>\n",
       "      <td>33413740</td>\n",
       "    </tr>\n",
       "    <tr>\n",
       "      <th>89</th>\n",
       "      <td>Classification of the present pharmaceutical a...</td>\n",
       "      <td>Amini Pouya M, Afshani SM, Maghsoudi AS, Hassa...</td>\n",
       "      <td>Expert Rev Anti Infect Ther</td>\n",
       "      <td>2021</td>\n",
       "      <td>32734518</td>\n",
       "    </tr>\n",
       "  </tbody>\n",
       "</table>\n",
       "</div>"
      ],
      "text/plain": [
       "                                                Title  \\\n",
       "85          The timeliness of ozone in the COVID era.   \n",
       "86  Why COVID outbreaks look set to worsen this wi...   \n",
       "87  SARS-CoV-2 vaccines in advanced clinical trial...   \n",
       "88  Early transmissibility assessment of the N501Y...   \n",
       "89  Classification of the present pharmaceutical a...   \n",
       "\n",
       "                                               Author  \\\n",
       "85            Marconcini S, Giammarinaro E, Covani U.   \n",
       "86                                       Mallapaty S.   \n",
       "87  Chakraborty S, Mallajosyula V, Tato CM, Tan GS...   \n",
       "88         Leung K, Shum MH, Leung GM, Lam TT, Wu JT.   \n",
       "89  Amini Pouya M, Afshani SM, Maghsoudi AS, Hassa...   \n",
       "\n",
       "                        Journal   Year        ID  \n",
       "85  Expert Rev Anti Infect Ther   2021  32432725  \n",
       "86  Expert Rev Anti Infect Ther   2021  33097844  \n",
       "87  Expert Rev Anti Infect Ther   2021  33482248  \n",
       "88  Expert Rev Anti Infect Ther   2021  33413740  \n",
       "89  Expert Rev Anti Infect Ther   2021  32734518  "
      ]
     },
     "execution_count": 37,
     "metadata": {},
     "output_type": "execute_result"
    }
   ],
   "source": [
    "df.tail()"
   ]
  },
  {
   "cell_type": "code",
   "execution_count": null,
   "metadata": {},
   "outputs": [],
   "source": []
  }
 ],
 "metadata": {
  "kernelspec": {
   "display_name": "Python 3 (ipykernel)",
   "language": "python",
   "name": "python3"
  },
  "language_info": {
   "codemirror_mode": {
    "name": "ipython",
    "version": 3
   },
   "file_extension": ".py",
   "mimetype": "text/x-python",
   "name": "python",
   "nbconvert_exporter": "python",
   "pygments_lexer": "ipython3",
   "version": "3.9.7"
  }
 },
 "nbformat": 4,
 "nbformat_minor": 2
}
