{
 "cells": [
  {
   "cell_type": "code",
   "execution_count": 1,
   "metadata": {},
   "outputs": [],
   "source": [
    "from bs4 import BeautifulSoup # this module helps in web scrapping.\n",
    "import requests  # this module helps us to download a web page\n",
    "import numpy as np"
   ]
  },
  {
   "cell_type": "code",
   "execution_count": 2,
   "metadata": {},
   "outputs": [],
   "source": [
    "r='https://www.worldometers.info/gdp/gdp-by-country/' #url for the given webpage"
   ]
  },
  {
   "cell_type": "code",
   "execution_count": 3,
   "metadata": {},
   "outputs": [],
   "source": [
    "data=requests.get(r).text# Call the API using the get method and store the\n",
    "                        # output of the API call in a variable called data."
   ]
  },
  {
   "cell_type": "code",
   "execution_count": 4,
   "metadata": {},
   "outputs": [],
   "source": [
    "soup= BeautifulSoup(data, 'html5lib')#parse the document into the BeautifulSoup constructor\n",
    "                                     #the BeautifulSoup object that is soup here, which represents the document as a nested data structur\n",
    "#print(soup.prettify())   #prettify() to display the HTML in the nested structure"
   ]
  },
  {
   "cell_type": "code",
   "execution_count": 5,
   "metadata": {},
   "outputs": [],
   "source": [
    "table = soup.find('table')#find_all() method looks through a tag’s descendants and retrieves all descendants that match your filters.\n",
    "                          #to find table from the html doc\n",
    "\n"
   ]
  },
  {
   "cell_type": "code",
   "execution_count": 6,
   "metadata": {},
   "outputs": [],
   "source": [
    "\n",
    "table_rows=table.find_all('tr') # tr tag is for rows, this code is to find all the rows in the given table\n",
    "for i,row in enumerate(table_rows): #iterate through each row in the table\n",
    "    cells=row.find_all('td') #to find all the columns and store it in variable called cells\n",
    "    #for j,cell in enumerate(cells): #iterate through each column\n",
    "        #print('colunm',j,\"cell\",cell) #and print each column(cell) and its index(j)"
   ]
  },
  {
   "cell_type": "code",
   "execution_count": 7,
   "metadata": {},
   "outputs": [
    {
     "name": "stdout",
     "output_type": "stream",
     "text": [
      "\n",
      "59939\n",
      "8612\n",
      "38214\n",
      "44680\n",
      "1980\n",
      "39532\n",
      "39827\n",
      "9881\n",
      "32038\n",
      "44841\n",
      "10846\n",
      "29958\n",
      "53831\n",
      "28175\n",
      "9224\n",
      "3837\n",
      "10498\n",
      "48796\n",
      "20747\n",
      "80296\n",
      "14508\n",
      "54075\n",
      "13871\n",
      "43325\n",
      "6579\n",
      "5628\n",
      "47261\n",
      "75428\n",
      "40325\n",
      "1969\n",
      "42852\n",
      "6120\n",
      "46733\n",
      "69727\n",
      "57545\n",
      "56746\n",
      "10118\n",
      "6429\n",
      "2982\n",
      "1467\n",
      "15001\n",
      "45778\n",
      "1564\n",
      "2441\n",
      "2366\n",
      "21316\n",
      "20291\n",
      "10781\n",
      "6723\n",
      "43415\n",
      "19214\n",
      "5114\n",
      "4048\n",
      "61264\n",
      "9009\n",
      "14364\n",
      "4096\n",
      "29616\n",
      "2879\n",
      "2521\n",
      "3083\n",
      "6214\n",
      "8541\n",
      "17551\n",
      "4135\n",
      "757\n",
      "1578\n",
      "7223\n",
      "4471\n",
      "15170\n",
      "1256\n",
      "105280\n",
      "15166\n",
      "2026\n",
      "8197\n",
      "11573\n",
      "16341\n",
      "13200\n",
      "5762\n",
      "7857\n",
      "975\n",
      "80890\n",
      "1554\n",
      "23488\n",
      "16709\n",
      "4692\n",
      "4139\n",
      "4095\n",
      "3494\n",
      "5776\n",
      "5791\n",
      "6587\n",
      "462\n",
      "3351\n",
      "1529\n",
      "23715\n",
      "1422\n",
      "1123\n",
      "15613\n",
      "20170\n",
      "631\n",
      "1535\n",
      "900\n",
      "3883\n",
      "73233\n",
      "2437\n",
      "1384\n",
      "15952\n",
      "18695\n",
      "1548\n",
      "1366\n",
      "2434\n",
      "538\n",
      "5387\n",
      "7894\n",
      "2424\n",
      "828\n",
      "3762\n",
      "7271\n",
      "5061\n",
      "3054\n",
      "2164\n",
      "10491\n",
      "5516\n",
      "4521\n",
      "441\n",
      "28585\n",
      "642\n",
      "9741\n",
      "31858\n",
      "28572\n",
      "3918\n",
      "450\n",
      "3672\n",
      "5418\n",
      "868\n",
      "657\n",
      "827\n",
      "762\n",
      "1703\n",
      "766\n",
      "2002\n",
      "376\n",
      "1222\n",
      "805\n",
      "357\n",
      "35665\n",
      "5768\n",
      "1173\n",
      "9802\n",
      "7720\n",
      "618\n",
      "16328\n",
      "3942\n",
      "504\n",
      "4671\n",
      "699\n",
      "293\n",
      "39128\n",
      "5251\n",
      "2377\n",
      "25630\n",
      "1233\n",
      "3391\n",
      "424\n",
      "4957\n",
      "3298\n",
      "9602\n",
      "48495\n",
      "28164\n",
      "15825\n",
      "15536\n",
      "673\n",
      "737\n",
      "2049\n",
      "10164\n",
      "1312\n",
      "19061\n",
      "3022\n",
      "4305\n",
      "7150\n",
      "11399\n",
      "6951\n",
      "4193\n",
      "1896\n",
      "631\n",
      "16275\n",
      "3517\n",
      "1626\n",
      "3494\n"
     ]
    }
   ],
   "source": [
    "Country=[] #create an empty list called country to store the name of each country\n",
    "GDP=[]#create an empty list called GDP to store the GDP of each country\n",
    "Population=[]#create an empty list called Population to store the population of each country\n",
    "GDPpercapita=[]#create an empty list called GDPpercapita to store the GDP per capita of each country\n",
    "ShareofworldGDP=[]#create an empty list called ShareofworldGDP to store how much each country's GDP account for the total GDP\n",
    "table_rows=table.find_all('tr')# tr tag is for rows, this code is to find all the rows in the given table\n",
    "for i,row in enumerate(table_rows):#iterate through each row in the table\n",
    "    countries=row.find_all('td')[1:2]# to access index 1 of the columns which stores countries names\n",
    "    country = [elem.get_text() for elem in countries]#You can't use get_text() on the list itself, but you can on the individual elements.\n",
    "    country=str(country)[1:-1].replace(\"'\", \"\")#to replace the '' from the country names & [1:-1] will help to remove square brackets from the list\n",
    "    g=row.find_all('td')[2:3]# to access index 2 of the columns\n",
    "    gdp =[elem.get_text() for elem in g]\n",
    "    gdp=str(gdp)[1:-1].replace(',', '').replace(\"$\", \"\").replace(\"'\", \"\")#to replace the ,$'' signs from each GDP value\n",
    "    p=row.find_all('td')[4:5]# to access index 4 of the columns\n",
    "    pop = [elem.get_text() for elem in p]\n",
    "    pop=str(pop)[1:-1].replace(\"'\", \"\")#to replace the '' from the country names\n",
    "    c=row.find_all('td')[5:6]# to access index 5 of the columns\n",
    "    gdpc = [elem.get_text() for elem in c]\n",
    "    gdpc=str(gdpc)[1:-1].replace(\"'\", \"\").replace(\",\", \"\")#to replace the '', from the country names\n",
    "    s=row.find_all('td')[6:7]# to access index 6 of the columns\n",
    "    sowg = [elem.get_text() for elem in s]\n",
    "    sowg=str(sowg)[1:-1].replace(',', '').replace(\"$\", \"\").replace(\"'\", \"\")#to replace the '',$ from the country names\n",
    "    Country.append(country)#append counry to the empty list Country\n",
    "    GDP.append(gdp)#append gdp to the empty list GDP\n",
    "    Population.append(pop)#append pop to the empty list Population\n",
    "    GDPpercapita.append(gdpc)#append gdpc to the empty list GDPpercapita\n",
    "    ShareofworldGDP.append(sowg)#append sowg to the empty list ShareofworldGDP\n",
    "    \n",
    "    print(sowg) \n",
    "    "
   ]
  },
  {
   "cell_type": "code",
   "execution_count": 8,
   "metadata": {},
   "outputs": [],
   "source": [
    "\n",
    "import pandas as pd\n",
    "df = pd.DataFrame() #create empty dataframe called df\n",
    "df['Country']=Country#create column called Country in the dataframe which stores the values of list Country\n",
    "df['GDP']=GDP#create column called GDPin the dataframe which stores the values of list GDP\n",
    "df[' Population']= Population#create column called Population in the dataframe which stores the values of list Population\n",
    "df['GDPpercapita']=GDPpercapita#create column called GDPpercapita in the dataframe which stores the values of list GDPpercapita\n",
    "df['ShareofworldGDP']=ShareofworldGDP#create column called ShareofworldGDP in the dataframe which stores the values of list ShareofworldGDP\n",
    "df.drop(labels=0, axis=0, inplace=True)\n",
    "\n"
   ]
  },
  {
   "cell_type": "code",
   "execution_count": 9,
   "metadata": {},
   "outputs": [],
   "source": [
    "df.to_csv('/Users/abhisheksinha/Desktop/GDP.csv') #store the dataframe as GDP.csv file at the given location in brackets"
   ]
  },
  {
   "cell_type": "code",
   "execution_count": 10,
   "metadata": {},
   "outputs": [
    {
     "data": {
      "text/html": [
       "<div>\n",
       "<style scoped>\n",
       "    .dataframe tbody tr th:only-of-type {\n",
       "        vertical-align: middle;\n",
       "    }\n",
       "\n",
       "    .dataframe tbody tr th {\n",
       "        vertical-align: top;\n",
       "    }\n",
       "\n",
       "    .dataframe thead th {\n",
       "        text-align: right;\n",
       "    }\n",
       "</style>\n",
       "<table border=\"1\" class=\"dataframe\">\n",
       "  <thead>\n",
       "    <tr style=\"text-align: right;\">\n",
       "      <th></th>\n",
       "      <th>Unnamed: 0</th>\n",
       "      <th>Country</th>\n",
       "      <th>GDP</th>\n",
       "      <th>Population</th>\n",
       "      <th>GDPpercapita</th>\n",
       "      <th>ShareofworldGDP</th>\n",
       "    </tr>\n",
       "  </thead>\n",
       "  <tbody>\n",
       "    <tr>\n",
       "      <th>0</th>\n",
       "      <td>1</td>\n",
       "      <td>United States</td>\n",
       "      <td>19485394000000</td>\n",
       "      <td>2.27%</td>\n",
       "      <td>325084756</td>\n",
       "      <td>59939</td>\n",
       "    </tr>\n",
       "    <tr>\n",
       "      <th>1</th>\n",
       "      <td>2</td>\n",
       "      <td>China</td>\n",
       "      <td>12237700479375</td>\n",
       "      <td>6.90%</td>\n",
       "      <td>1421021791</td>\n",
       "      <td>8612</td>\n",
       "    </tr>\n",
       "    <tr>\n",
       "      <th>2</th>\n",
       "      <td>3</td>\n",
       "      <td>Japan</td>\n",
       "      <td>4872415104315</td>\n",
       "      <td>1.71%</td>\n",
       "      <td>127502725</td>\n",
       "      <td>38214</td>\n",
       "    </tr>\n",
       "    <tr>\n",
       "      <th>3</th>\n",
       "      <td>4</td>\n",
       "      <td>Germany</td>\n",
       "      <td>3693204332230</td>\n",
       "      <td>2.22%</td>\n",
       "      <td>82658409</td>\n",
       "      <td>44680</td>\n",
       "    </tr>\n",
       "    <tr>\n",
       "      <th>4</th>\n",
       "      <td>5</td>\n",
       "      <td>India</td>\n",
       "      <td>2650725335364</td>\n",
       "      <td>6.68%</td>\n",
       "      <td>1338676785</td>\n",
       "      <td>1980</td>\n",
       "    </tr>\n",
       "  </tbody>\n",
       "</table>\n",
       "</div>"
      ],
      "text/plain": [
       "   Unnamed: 0        Country             GDP  Population  GDPpercapita  \\\n",
       "0           1  United States  19485394000000       2.27%     325084756   \n",
       "1           2          China  12237700479375       6.90%    1421021791   \n",
       "2           3          Japan   4872415104315       1.71%     127502725   \n",
       "3           4        Germany   3693204332230       2.22%      82658409   \n",
       "4           5          India   2650725335364       6.68%    1338676785   \n",
       "\n",
       "   ShareofworldGDP  \n",
       "0            59939  \n",
       "1             8612  \n",
       "2            38214  \n",
       "3            44680  \n",
       "4             1980  "
      ]
     },
     "execution_count": 10,
     "metadata": {},
     "output_type": "execute_result"
    }
   ],
   "source": [
    "data=pd.read_csv('/Users/abhisheksinha/Desktop/GDP.csv')\n",
    "data.head()"
   ]
  },
  {
   "cell_type": "code",
   "execution_count": 11,
   "metadata": {},
   "outputs": [
    {
     "data": {
      "text/plain": [
       "Unnamed: 0          int64\n",
       "Country            object\n",
       "GDP                 int64\n",
       " Population        object\n",
       "GDPpercapita        int64\n",
       "ShareofworldGDP     int64\n",
       "dtype: object"
      ]
     },
     "execution_count": 11,
     "metadata": {},
     "output_type": "execute_result"
    }
   ],
   "source": [
    "data.dtypes"
   ]
  },
  {
   "cell_type": "code",
   "execution_count": 12,
   "metadata": {},
   "outputs": [],
   "source": [
    "data.drop(['Unnamed: 0'], axis=1, inplace=True)"
   ]
  },
  {
   "cell_type": "code",
   "execution_count": 13,
   "metadata": {},
   "outputs": [
    {
     "data": {
      "text/html": [
       "<div>\n",
       "<style scoped>\n",
       "    .dataframe tbody tr th:only-of-type {\n",
       "        vertical-align: middle;\n",
       "    }\n",
       "\n",
       "    .dataframe tbody tr th {\n",
       "        vertical-align: top;\n",
       "    }\n",
       "\n",
       "    .dataframe thead th {\n",
       "        text-align: right;\n",
       "    }\n",
       "</style>\n",
       "<table border=\"1\" class=\"dataframe\">\n",
       "  <thead>\n",
       "    <tr style=\"text-align: right;\">\n",
       "      <th></th>\n",
       "      <th>Country</th>\n",
       "      <th>GDP</th>\n",
       "      <th>Population</th>\n",
       "      <th>GDPpercapita</th>\n",
       "      <th>ShareofworldGDP</th>\n",
       "    </tr>\n",
       "  </thead>\n",
       "  <tbody>\n",
       "    <tr>\n",
       "      <th>0</th>\n",
       "      <td>United States</td>\n",
       "      <td>19485394000000</td>\n",
       "      <td>2.27%</td>\n",
       "      <td>325084756</td>\n",
       "      <td>59939</td>\n",
       "    </tr>\n",
       "    <tr>\n",
       "      <th>1</th>\n",
       "      <td>China</td>\n",
       "      <td>12237700479375</td>\n",
       "      <td>6.90%</td>\n",
       "      <td>1421021791</td>\n",
       "      <td>8612</td>\n",
       "    </tr>\n",
       "    <tr>\n",
       "      <th>2</th>\n",
       "      <td>Japan</td>\n",
       "      <td>4872415104315</td>\n",
       "      <td>1.71%</td>\n",
       "      <td>127502725</td>\n",
       "      <td>38214</td>\n",
       "    </tr>\n",
       "    <tr>\n",
       "      <th>3</th>\n",
       "      <td>Germany</td>\n",
       "      <td>3693204332230</td>\n",
       "      <td>2.22%</td>\n",
       "      <td>82658409</td>\n",
       "      <td>44680</td>\n",
       "    </tr>\n",
       "    <tr>\n",
       "      <th>4</th>\n",
       "      <td>India</td>\n",
       "      <td>2650725335364</td>\n",
       "      <td>6.68%</td>\n",
       "      <td>1338676785</td>\n",
       "      <td>1980</td>\n",
       "    </tr>\n",
       "  </tbody>\n",
       "</table>\n",
       "</div>"
      ],
      "text/plain": [
       "         Country             GDP  Population  GDPpercapita  ShareofworldGDP\n",
       "0  United States  19485394000000       2.27%     325084756            59939\n",
       "1          China  12237700479375       6.90%    1421021791             8612\n",
       "2          Japan   4872415104315       1.71%     127502725            38214\n",
       "3        Germany   3693204332230       2.22%      82658409            44680\n",
       "4          India   2650725335364       6.68%    1338676785             1980"
      ]
     },
     "execution_count": 13,
     "metadata": {},
     "output_type": "execute_result"
    }
   ],
   "source": [
    "data.head()"
   ]
  },
  {
   "cell_type": "code",
   "execution_count": 14,
   "metadata": {},
   "outputs": [
    {
     "data": {
      "text/plain": [
       "Country            0\n",
       "GDP                0\n",
       " Population        0\n",
       "GDPpercapita       0\n",
       "ShareofworldGDP    0\n",
       "dtype: int64"
      ]
     },
     "execution_count": 14,
     "metadata": {},
     "output_type": "execute_result"
    }
   ],
   "source": [
    "data.isna().sum()"
   ]
  },
  {
   "cell_type": "code",
   "execution_count": 15,
   "metadata": {},
   "outputs": [
    {
     "data": {
      "text/html": [
       "<div>\n",
       "<style scoped>\n",
       "    .dataframe tbody tr th:only-of-type {\n",
       "        vertical-align: middle;\n",
       "    }\n",
       "\n",
       "    .dataframe tbody tr th {\n",
       "        vertical-align: top;\n",
       "    }\n",
       "\n",
       "    .dataframe thead th {\n",
       "        text-align: right;\n",
       "    }\n",
       "</style>\n",
       "<table border=\"1\" class=\"dataframe\">\n",
       "  <thead>\n",
       "    <tr style=\"text-align: right;\">\n",
       "      <th></th>\n",
       "      <th>GDP</th>\n",
       "      <th>GDPpercapita</th>\n",
       "      <th>ShareofworldGDP</th>\n",
       "    </tr>\n",
       "  </thead>\n",
       "  <tbody>\n",
       "    <tr>\n",
       "      <th>count</th>\n",
       "      <td>1.900000e+02</td>\n",
       "      <td>1.900000e+02</td>\n",
       "      <td>190.000000</td>\n",
       "    </tr>\n",
       "    <tr>\n",
       "      <th>mean</th>\n",
       "      <td>4.188098e+11</td>\n",
       "      <td>3.902765e+07</td>\n",
       "      <td>14303.668421</td>\n",
       "    </tr>\n",
       "    <tr>\n",
       "      <th>std</th>\n",
       "      <td>1.755006e+12</td>\n",
       "      <td>1.461575e+08</td>\n",
       "      <td>19155.257580</td>\n",
       "    </tr>\n",
       "    <tr>\n",
       "      <th>min</th>\n",
       "      <td>3.973132e+07</td>\n",
       "      <td>1.137000e+04</td>\n",
       "      <td>293.000000</td>\n",
       "    </tr>\n",
       "    <tr>\n",
       "      <th>25%</th>\n",
       "      <td>8.121906e+09</td>\n",
       "      <td>1.858883e+06</td>\n",
       "      <td>2008.000000</td>\n",
       "    </tr>\n",
       "    <tr>\n",
       "      <th>50%</th>\n",
       "      <td>3.639298e+10</td>\n",
       "      <td>7.971161e+06</td>\n",
       "      <td>5765.000000</td>\n",
       "    </tr>\n",
       "    <tr>\n",
       "      <th>75%</th>\n",
       "      <td>2.117603e+11</td>\n",
       "      <td>2.778428e+07</td>\n",
       "      <td>16617.000000</td>\n",
       "    </tr>\n",
       "    <tr>\n",
       "      <th>max</th>\n",
       "      <td>1.948539e+13</td>\n",
       "      <td>1.421022e+09</td>\n",
       "      <td>105280.000000</td>\n",
       "    </tr>\n",
       "  </tbody>\n",
       "</table>\n",
       "</div>"
      ],
      "text/plain": [
       "                GDP  GDPpercapita  ShareofworldGDP\n",
       "count  1.900000e+02  1.900000e+02       190.000000\n",
       "mean   4.188098e+11  3.902765e+07     14303.668421\n",
       "std    1.755006e+12  1.461575e+08     19155.257580\n",
       "min    3.973132e+07  1.137000e+04       293.000000\n",
       "25%    8.121906e+09  1.858883e+06      2008.000000\n",
       "50%    3.639298e+10  7.971161e+06      5765.000000\n",
       "75%    2.117603e+11  2.778428e+07     16617.000000\n",
       "max    1.948539e+13  1.421022e+09    105280.000000"
      ]
     },
     "execution_count": 15,
     "metadata": {},
     "output_type": "execute_result"
    }
   ],
   "source": [
    "data.describe()"
   ]
  },
  {
   "cell_type": "code",
   "execution_count": 24,
   "metadata": {},
   "outputs": [],
   "source": [
    "#Categorizing GDP variable for further analysis"
   ]
  },
  {
   "cell_type": "code",
   "execution_count": 20,
   "metadata": {},
   "outputs": [
    {
     "data": {
      "text/plain": [
       "array([3.97313170e+07, 6.49515782e+12, 1.29902759e+13, 1.94853940e+13])"
      ]
     },
     "execution_count": 20,
     "metadata": {},
     "output_type": "execute_result"
    }
   ],
   "source": [
    "bins=np.linspace(min(data['GDP']), max(data['GDP']), 4)\n",
    "bins"
   ]
  },
  {
   "cell_type": "code",
   "execution_count": 22,
   "metadata": {},
   "outputs": [],
   "source": [
    "label=['Low', 'Medium', 'High']\n",
    "GDP_binned=pd.cut(data['GDP'], bins, labels=label, include_lowest=True)\n"
   ]
  },
  {
   "cell_type": "code",
   "execution_count": 23,
   "metadata": {},
   "outputs": [
    {
     "data": {
      "text/html": [
       "<div>\n",
       "<style scoped>\n",
       "    .dataframe tbody tr th:only-of-type {\n",
       "        vertical-align: middle;\n",
       "    }\n",
       "\n",
       "    .dataframe tbody tr th {\n",
       "        vertical-align: top;\n",
       "    }\n",
       "\n",
       "    .dataframe thead th {\n",
       "        text-align: right;\n",
       "    }\n",
       "</style>\n",
       "<table border=\"1\" class=\"dataframe\">\n",
       "  <thead>\n",
       "    <tr style=\"text-align: right;\">\n",
       "      <th></th>\n",
       "      <th>Country</th>\n",
       "      <th>GDP</th>\n",
       "      <th>Population</th>\n",
       "      <th>GDPpercapita</th>\n",
       "      <th>ShareofworldGDP</th>\n",
       "      <th>GDP_cat</th>\n",
       "    </tr>\n",
       "  </thead>\n",
       "  <tbody>\n",
       "    <tr>\n",
       "      <th>0</th>\n",
       "      <td>United States</td>\n",
       "      <td>19485394000000</td>\n",
       "      <td>2.27%</td>\n",
       "      <td>325084756</td>\n",
       "      <td>59939</td>\n",
       "      <td>High</td>\n",
       "    </tr>\n",
       "    <tr>\n",
       "      <th>1</th>\n",
       "      <td>China</td>\n",
       "      <td>12237700479375</td>\n",
       "      <td>6.90%</td>\n",
       "      <td>1421021791</td>\n",
       "      <td>8612</td>\n",
       "      <td>Medium</td>\n",
       "    </tr>\n",
       "    <tr>\n",
       "      <th>2</th>\n",
       "      <td>Japan</td>\n",
       "      <td>4872415104315</td>\n",
       "      <td>1.71%</td>\n",
       "      <td>127502725</td>\n",
       "      <td>38214</td>\n",
       "      <td>Low</td>\n",
       "    </tr>\n",
       "    <tr>\n",
       "      <th>3</th>\n",
       "      <td>Germany</td>\n",
       "      <td>3693204332230</td>\n",
       "      <td>2.22%</td>\n",
       "      <td>82658409</td>\n",
       "      <td>44680</td>\n",
       "      <td>Low</td>\n",
       "    </tr>\n",
       "    <tr>\n",
       "      <th>4</th>\n",
       "      <td>India</td>\n",
       "      <td>2650725335364</td>\n",
       "      <td>6.68%</td>\n",
       "      <td>1338676785</td>\n",
       "      <td>1980</td>\n",
       "      <td>Low</td>\n",
       "    </tr>\n",
       "  </tbody>\n",
       "</table>\n",
       "</div>"
      ],
      "text/plain": [
       "         Country             GDP  Population  GDPpercapita  ShareofworldGDP  \\\n",
       "0  United States  19485394000000       2.27%     325084756            59939   \n",
       "1          China  12237700479375       6.90%    1421021791             8612   \n",
       "2          Japan   4872415104315       1.71%     127502725            38214   \n",
       "3        Germany   3693204332230       2.22%      82658409            44680   \n",
       "4          India   2650725335364       6.68%    1338676785             1980   \n",
       "\n",
       "  GDP_cat  \n",
       "0    High  \n",
       "1  Medium  \n",
       "2     Low  \n",
       "3     Low  \n",
       "4     Low  "
      ]
     },
     "execution_count": 23,
     "metadata": {},
     "output_type": "execute_result"
    }
   ],
   "source": [
    "data['GDP_cat']=GDP_binned\n",
    "data.head()"
   ]
  },
  {
   "cell_type": "code",
   "execution_count": 25,
   "metadata": {},
   "outputs": [
    {
     "data": {
      "text/plain": [
       "[High, Medium, Low]\n",
       "Categories (3, object): [Low < Medium < High]"
      ]
     },
     "execution_count": 25,
     "metadata": {},
     "output_type": "execute_result"
    }
   ],
   "source": [
    "data['GDP_cat'].unique()"
   ]
  },
  {
   "cell_type": "code",
   "execution_count": 26,
   "metadata": {},
   "outputs": [
    {
     "data": {
      "text/plain": [
       "Low       188\n",
       "High        1\n",
       "Medium      1\n",
       "Name: GDP_cat, dtype: int64"
      ]
     },
     "execution_count": 26,
     "metadata": {},
     "output_type": "execute_result"
    }
   ],
   "source": [
    "data['GDP_cat'].value_counts()"
   ]
  },
  {
   "cell_type": "code",
   "execution_count": 18,
   "metadata": {},
   "outputs": [
    {
     "data": {
      "image/png": "[encoded data removed]",
      "text/plain": [
       "<Figure size 432x288 with 1 Axes>"
      ]
     },
     "metadata": {
      "needs_background": "light"
     },
     "output_type": "display_data"
    },
    {
     "data": {
      "image/png": "[encoded data removed]",
      "text/plain": [
       "<Figure size 432x288 with 1 Axes>"
      ]
     },
     "metadata": {
      "needs_background": "light"
     },
     "output_type": "display_data"
    },
    {
     "data": {
      "image/png": "[encoded data removed]",
      "text/plain": [
       "<Figure size 432x288 with 1 Axes>"
      ]
     },
     "metadata": {
      "needs_background": "light"
     },
     "output_type": "display_data"
    }
   ],
   "source": [
    "#creating distribution plot for the numerical variables\n",
    "import matplotlib.pyplot as plt\n",
    "import seaborn as sns\n",
    "features = data[['GDP', 'GDPpercapita','ShareofworldGDP']]#creating new dataframe with the selected variables from the original dataframe \n",
    "for i,index in enumerate(features.columns):\n",
    "    plt.figure(i)#Create a new figure, or activate an existing figure\n",
    "    sns.distplot(features[index])"
   ]
  },
  {
   "cell_type": "code",
   "execution_count": null,
   "metadata": {},
   "outputs": [],
   "source": []
  }
 ],
 "metadata": {
  "kernelspec": {
   "display_name": "Python 3",
   "language": "python",
   "name": "python3"
  },
  "language_info": {
   "codemirror_mode": {
    "name": "ipython",
    "version": 3
   },
   "file_extension": ".py",
   "mimetype": "text/x-python",
   "name": "python",
   "nbconvert_exporter": "python",
   "pygments_lexer": "ipython3",
   "version": "3.7.3"
  }
 },
 "nbformat": 4,
 "nbformat_minor": 2
}
